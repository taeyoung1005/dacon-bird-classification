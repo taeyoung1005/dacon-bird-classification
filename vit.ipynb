{
 "cells": [
  {
   "cell_type": "code",
   "execution_count": 1,
   "metadata": {},
   "outputs": [
    {
     "name": "stderr",
     "output_type": "stream",
     "text": [
      "The cache for model files in Transformers v4.22.0 has been updated. Migrating your old cache. This is a one-time only operation. You can interrupt this and resume the migration later on by calling `transformers.utils.move_cache()`.\n"
     ]
    },
    {
     "data": {
      "application/vnd.jupyter.widget-view+json": {
       "model_id": "6e61a54febc9415c9c838c931f2660ef",
       "version_major": 2,
       "version_minor": 0
      },
      "text/plain": [
       "0it [00:00, ?it/s]"
      ]
     },
     "metadata": {},
     "output_type": "display_data"
    }
   ],
   "source": [
    "import os\n",
    "import torch\n",
    "import torch.nn as nn\n",
    "import torch.optim as optim\n",
    "from torch.utils.data import DataLoader\n",
    "from torchvision import transforms\n",
    "from transformers import ViTForImageClassification, ViTFeatureExtractor\n",
    "from PIL import Image\n",
    "import pandas as pd\n",
    "from sklearn.model_selection import train_test_split\n",
    "from sklearn.preprocessing import LabelEncoder\n",
    "import matplotlib.pyplot as plt\n",
    "import optuna\n",
    "from optuna import trial as optuna_trial\n",
    "from optuna.samplers import TPESampler\n"
   ]
  },
  {
   "cell_type": "code",
   "execution_count": 2,
   "metadata": {},
   "outputs": [],
   "source": [
    "def seed_everything(seed):\n",
    "    torch.manual_seed(seed)\n",
    "    torch.cuda.manual_seed(seed)\n",
    "    torch.cuda.manual_seed_all(seed)\n",
    "    torch.backends.cudnn.deterministic = True\n",
    "    torch.backends.cudnn.benchmark = False\n",
    "    os.environ['PYTHONHASHSEED'] = str(seed)\n",
    "\n",
    "seed_everything(42)"
   ]
  },
  {
   "cell_type": "code",
   "execution_count": 3,
   "metadata": {},
   "outputs": [],
   "source": [
    "class CustomDataset(torch.utils.data.Dataset):\n",
    "    def __init__(self, data, transform=None):\n",
    "        # 데이터셋 초기화 및 전처리 작업 수행\n",
    "        self.data = data\n",
    "        self.transform = transform\n",
    "\n",
    "    def __len__(self):\n",
    "        # 데이터셋의 샘플 수 반환\n",
    "        return len(self.data)\n",
    "\n",
    "    def __getitem__(self, idx):\n",
    "        # 인덱스(idx)에 해당하는 샘플 반환\n",
    "        image = Image.open(self.data['img_path'][idx])\n",
    "        label = self.data['label'][idx]\n",
    "\n",
    "        if self.transform:\n",
    "            image = self.transform(image)\n",
    "        \n",
    "        return image, label.item()"
   ]
  },
  {
   "cell_type": "code",
   "execution_count": 4,
   "metadata": {},
   "outputs": [],
   "source": [
    "# 데이터셋과 데이터로더 설정\n",
    "transform = transforms.Compose([\n",
    "    # 여기에 필요한 전처리 작업을 추가합니다.\n",
    "    transforms.Resize((224, 224)),\n",
    "    transforms.ToTensor(),\n",
    "    # 다른 전처리 작업들을 추가할 수 있습니다.\n",
    "])"
   ]
  },
  {
   "cell_type": "markdown",
   "metadata": {},
   "source": [
    "## data augmentation시 성능이 내려감"
   ]
  },
  {
   "cell_type": "code",
   "execution_count": 5,
   "metadata": {},
   "outputs": [],
   "source": [
    "# 데이터 증강을 위한 변환 정의\n",
    "augmentation_transform = transforms.Compose([\n",
    "    transforms.RandomRotation(degrees=30),  # 랜덤 회전 (±30도)\n",
    "    transforms.RandomHorizontalFlip(p=0.5),  # 랜덤 수평 뒤집기\n",
    "])"
   ]
  },
  {
   "cell_type": "code",
   "execution_count": 6,
   "metadata": {},
   "outputs": [
    {
     "name": "stdout",
     "output_type": "stream",
     "text": [
      "<class 'pandas.core.frame.DataFrame'>\n",
      "Index: 31668 entries, 0 to 15833\n",
      "Data columns (total 2 columns):\n",
      " #   Column    Non-Null Count  Dtype \n",
      "---  ------    --------------  ----- \n",
      " 0   img_path  31668 non-null  object\n",
      " 1   label     31668 non-null  object\n",
      "dtypes: object(2)\n",
      "memory usage: 742.2+ KB\n"
     ]
    }
   ],
   "source": [
    "# CSV 파일을 읽어옴\n",
    "df = pd.read_csv(\"train.csv\")\n",
    "\n",
    "# img_path와 upscale_img_path를 기준으로 병합하여 새로운 DataFrame 생성\n",
    "df_1 = df[['img_path', 'label']]\n",
    "df_2 = df[['upscale_img_path', 'label']]\n",
    "\n",
    "# 컬럼명을 일치시킴\n",
    "df_1.columns = ['img_path', 'label']\n",
    "df_2.columns = ['img_path', 'label']\n",
    "\n",
    "# 데이터프레임 병합\n",
    "merged_df = pd.concat([df_1, df_2])\n",
    "\n",
    "# 결과 출력\n",
    "merged_df.info()\n"
   ]
  },
  {
   "cell_type": "code",
   "execution_count": 7,
   "metadata": {},
   "outputs": [],
   "source": [
    "df = pd.read_csv('train.csv')\n",
    "\n",
    "# 데이터를 train, validation, test로 나누기\n",
    "train_df, test_df = train_test_split(merged_df, test_size=0.2, random_state=42)\n",
    "train_df, valid_df = train_test_split(train_df, test_size=0.1, random_state=42)\n",
    "\n",
    "train_df.reset_index(drop=True, inplace=True)\n",
    "valid_df.reset_index(drop=True, inplace=True)\n",
    "test_df.reset_index(drop=True, inplace=True)"
   ]
  },
  {
   "cell_type": "code",
   "execution_count": 8,
   "metadata": {},
   "outputs": [],
   "source": [
    "# 훈련 데이터, 검증 데이터, 테스트 데이터의 레이블을 합칩니다.\n",
    "all_labels = pd.concat([train_df['label'], valid_df['label'], test_df['label']])\n",
    "\n",
    "# 중복을 제거하여 unique한 레이블을 얻습니다.\n",
    "unique_labels = all_labels.drop_duplicates()\n",
    "\n",
    "# unique_labels에 대해 인덱스를 부여하여 딕셔너리를 만듭니다.\n",
    "label_to_index = {}\n",
    "idx = 0\n",
    "\n",
    "for label in unique_labels:\n",
    "    label_to_index[label] = idx\n",
    "    idx += 1\n",
    "\n",
    "# 각 데이터셋의 레이블을 딕셔너리를 사용하여 매핑합니다.\n",
    "train_df['label'] = train_df['label'].map(label_to_index)\n",
    "valid_df['label'] = valid_df['label'].map(label_to_index)\n",
    "test_df['label'] = test_df['label'].map(label_to_index)\n"
   ]
  },
  {
   "cell_type": "code",
   "execution_count": 9,
   "metadata": {},
   "outputs": [],
   "source": [
    "train_dataset = CustomDataset(train_df, transform=transforms.Compose([transform]))\n",
    "valid_dataset = CustomDataset(valid_df, transform=transform)\n",
    "test_dataset = CustomDataset(test_df, transform=transform)\n",
    "\n",
    "train_loader = DataLoader(train_dataset, batch_size=64, shuffle=True)\n",
    "valid_loader = DataLoader(valid_dataset, batch_size=64, shuffle=True)\n",
    "test_loader = DataLoader(test_dataset, batch_size=64, shuffle=True)"
   ]
  },
  {
   "cell_type": "markdown",
   "metadata": {},
   "source": [
    "## Optuna"
   ]
  },
  {
   "cell_type": "code",
   "execution_count": 10,
   "metadata": {},
   "outputs": [],
   "source": [
    "# Define model training function\n",
    "def train_model(trial: optuna_trial.Trial, learning_rate: float) -> float:\n",
    "    # ViT 모델 및 전이 학습 준비\n",
    "    model = ViTForImageClassification.from_pretrained('google/vit-base-patch16-224')\n",
    "    device = torch.device('cuda' if torch.cuda.is_available() else 'cpu')\n",
    "    model.to(device)\n",
    "\n",
    "    # 손실 함수 및 최적화 기법 설정\n",
    "    criterion = nn.CrossEntropyLoss()\n",
    "    optimizer = optim.Adam(model.parameters(), lr=learning_rate)\n",
    "\n",
    "    # 모델 학습\n",
    "    epochs = 20\n",
    "    for epoch in range(epochs):\n",
    "        model.train()\n",
    "        running_loss = 0.0\n",
    "        for images, labels in train_loader:\n",
    "            images = images.to(device)\n",
    "            labels = labels.to(device)\n",
    "            \n",
    "            optimizer.zero_grad()\n",
    "            outputs = model(images)\n",
    "            loss = criterion(outputs.logits, labels)\n",
    "            loss.backward()\n",
    "            optimizer.step()\n",
    "\n",
    "            running_loss += loss.item() * images.size(0)\n",
    "\n",
    "        epoch_train_loss = running_loss / len(train_loader.dataset)\n",
    "\n",
    "        # 검증 데이터셋을 이용한 성능 평가\n",
    "        model.eval()\n",
    "        with torch.no_grad():\n",
    "            valid_loss = 0.0\n",
    "            correct = 0\n",
    "            total = 0\n",
    "            for images, labels in valid_loader:\n",
    "                images, labels = images.to(device), labels.to(device)\n",
    "                outputs = model(images)\n",
    "                valid_loss += criterion(outputs.logits, labels).item()\n",
    "                _, predicted = torch.max(outputs.logits, 1)\n",
    "                total += labels.size(0)\n",
    "                correct += (predicted == labels).sum().item()\n",
    "\n",
    "            epoch_valid_loss = valid_loss / len(valid_loader.dataset)\n",
    "\n",
    "            accuracy = 100 * correct / total\n",
    "            print(f'Epoch {epoch + 1}/{epochs}, '\n",
    "                  f'Train Loss: {epoch_train_loss:.4f}, '\n",
    "                  f'Valid Loss: {epoch_valid_loss:.4f}, '\n",
    "                  f'Valid Accuracy: {accuracy:.2f}%')\n",
    "\n",
    "            # Report intermediate results to Optuna\n",
    "            trial.report(epoch_valid_loss, epoch)\n",
    "\n",
    "            # Handle pruning based on the intermediate value.\n",
    "            if trial.should_prune():\n",
    "                raise optuna.TrialPruned()\n",
    "\n",
    "    return epoch_valid_loss"
   ]
  },
  {
   "cell_type": "code",
   "execution_count": 11,
   "metadata": {},
   "outputs": [],
   "source": [
    "# Define objective function for Optuna\n",
    "def objective(trial: optuna_trial.Trial) -> float:\n",
    "    # Sample hyperparameters\n",
    "    learning_rate = trial.suggest_float(\"learning_rate\", 2.40539791121905e-05, 1.8361161694452508e-05, log=True)\n",
    "\n",
    "    # Train model and return validation loss\n",
    "    return train_model(trial, learning_rate)"
   ]
  },
  {
   "cell_type": "code",
   "execution_count": 12,
   "metadata": {},
   "outputs": [
    {
     "name": "stderr",
     "output_type": "stream",
     "text": [
      "[I 2024-05-08 17:16:01,399] A new study created in memory with name: no-name-cdf11bc9-955b-468f-8b4c-3ecb2374a70f\n",
      "/home/taeyoung3060/anaconda3/lib/python3.11/site-packages/huggingface_hub/file_download.py:1132: FutureWarning: `resume_download` is deprecated and will be removed in version 1.0.0. Downloads always resume when possible. If you want to force a new download, use `force_download=True`.\n",
      "  warnings.warn(\n"
     ]
    },
    {
     "name": "stdout",
     "output_type": "stream",
     "text": [
      "Epoch 1/20, Train Loss: 2.3422, Valid Loss: 0.0078, Valid Accuracy: 89.98%\n",
      "Epoch 2/20, Train Loss: 0.3166, Valid Loss: 0.0043, Valid Accuracy: 93.73%\n",
      "Epoch 3/20, Train Loss: 0.1428, Valid Loss: 0.0033, Valid Accuracy: 95.07%\n",
      "Epoch 4/20, Train Loss: 0.0709, Valid Loss: 0.0029, Valid Accuracy: 95.22%\n",
      "Epoch 5/20, Train Loss: 0.0366, Valid Loss: 0.0028, Valid Accuracy: 95.46%\n",
      "Epoch 6/20, Train Loss: 0.0184, Valid Loss: 0.0027, Valid Accuracy: 95.82%\n",
      "Epoch 7/20, Train Loss: 0.0103, Valid Loss: 0.0027, Valid Accuracy: 95.86%\n",
      "Epoch 8/20, Train Loss: 0.0057, Valid Loss: 0.0027, Valid Accuracy: 95.70%\n",
      "Epoch 9/20, Train Loss: 0.0040, Valid Loss: 0.0026, Valid Accuracy: 95.82%\n",
      "Epoch 10/20, Train Loss: 0.0026, Valid Loss: 0.0027, Valid Accuracy: 95.82%\n",
      "Epoch 11/20, Train Loss: 0.0019, Valid Loss: 0.0026, Valid Accuracy: 95.90%\n",
      "Epoch 12/20, Train Loss: 0.0015, Valid Loss: 0.0027, Valid Accuracy: 95.90%\n",
      "Epoch 13/20, Train Loss: 0.0012, Valid Loss: 0.0027, Valid Accuracy: 95.86%\n",
      "Epoch 14/20, Train Loss: 0.0010, Valid Loss: 0.0027, Valid Accuracy: 95.82%\n",
      "Epoch 15/20, Train Loss: 0.0008, Valid Loss: 0.0027, Valid Accuracy: 95.82%\n",
      "Epoch 16/20, Train Loss: 0.0006, Valid Loss: 0.0027, Valid Accuracy: 95.82%\n",
      "Epoch 17/20, Train Loss: 0.0005, Valid Loss: 0.0028, Valid Accuracy: 95.94%\n",
      "Epoch 18/20, Train Loss: 0.0004, Valid Loss: 0.0028, Valid Accuracy: 95.90%\n",
      "Epoch 19/20, Train Loss: 0.0004, Valid Loss: 0.0028, Valid Accuracy: 96.01%\n"
     ]
    },
    {
     "name": "stderr",
     "output_type": "stream",
     "text": [
      "[I 2024-05-08 19:51:02,189] Trial 0 finished with value: 0.0028279178714101815 and parameters: {'learning_rate': 8.94241464958811e-06}. Best is trial 0 with value: 0.0028279178714101815.\n"
     ]
    },
    {
     "name": "stdout",
     "output_type": "stream",
     "text": [
      "Epoch 20/20, Train Loss: 0.0003, Valid Loss: 0.0028, Valid Accuracy: 95.97%\n",
      "Epoch 1/20, Train Loss: 1.0252, Valid Loss: 0.0032, Valid Accuracy: 94.87%\n",
      "Epoch 2/20, Train Loss: 0.1013, Valid Loss: 0.0026, Valid Accuracy: 95.90%\n",
      "Epoch 3/20, Train Loss: 0.0269, Valid Loss: 0.0021, Valid Accuracy: 96.25%\n",
      "Epoch 4/20, Train Loss: 0.0101, Valid Loss: 0.0020, Valid Accuracy: 96.96%\n",
      "Epoch 5/20, Train Loss: 0.0039, Valid Loss: 0.0018, Valid Accuracy: 97.00%\n",
      "Epoch 6/20, Train Loss: 0.0021, Valid Loss: 0.0023, Valid Accuracy: 96.29%\n",
      "Epoch 7/20, Train Loss: 0.0142, Valid Loss: 0.0023, Valid Accuracy: 96.05%\n",
      "Epoch 8/20, Train Loss: 0.0111, Valid Loss: 0.0026, Valid Accuracy: 95.62%\n",
      "Epoch 9/20, Train Loss: 0.0085, Valid Loss: 0.0016, Valid Accuracy: 97.04%\n",
      "Epoch 10/20, Train Loss: 0.0061, Valid Loss: 0.0021, Valid Accuracy: 96.69%\n",
      "Epoch 11/20, Train Loss: 0.0098, Valid Loss: 0.0020, Valid Accuracy: 96.33%\n",
      "Epoch 12/20, Train Loss: 0.0063, Valid Loss: 0.0019, Valid Accuracy: 96.80%\n",
      "Epoch 13/20, Train Loss: 0.0044, Valid Loss: 0.0016, Valid Accuracy: 97.24%\n",
      "Epoch 14/20, Train Loss: 0.0004, Valid Loss: 0.0016, Valid Accuracy: 97.59%\n",
      "Epoch 15/20, Train Loss: 0.0002, Valid Loss: 0.0015, Valid Accuracy: 97.79%\n",
      "Epoch 16/20, Train Loss: 0.0002, Valid Loss: 0.0015, Valid Accuracy: 97.83%\n",
      "Epoch 17/20, Train Loss: 0.0001, Valid Loss: 0.0015, Valid Accuracy: 97.83%\n",
      "Epoch 18/20, Train Loss: 0.0001, Valid Loss: 0.0015, Valid Accuracy: 97.91%\n",
      "Epoch 19/20, Train Loss: 0.0001, Valid Loss: 0.0015, Valid Accuracy: 97.91%\n"
     ]
    },
    {
     "name": "stderr",
     "output_type": "stream",
     "text": [
      "[I 2024-05-08 22:30:27,859] Trial 1 finished with value: 0.0014615214366212946 and parameters: {'learning_rate': 2.8515470704879856e-05}. Best is trial 1 with value: 0.0014615214366212946.\n"
     ]
    },
    {
     "name": "stdout",
     "output_type": "stream",
     "text": [
      "Epoch 20/20, Train Loss: 0.0001, Valid Loss: 0.0015, Valid Accuracy: 97.91%\n",
      "Epoch 1/20, Train Loss: 1.3844, Valid Loss: 0.0041, Valid Accuracy: 94.36%\n",
      "Epoch 2/20, Train Loss: 0.1452, Valid Loss: 0.0029, Valid Accuracy: 95.34%\n",
      "Epoch 3/20, Train Loss: 0.0496, Valid Loss: 0.0024, Valid Accuracy: 95.74%\n",
      "Epoch 4/20, Train Loss: 0.0167, Valid Loss: 0.0023, Valid Accuracy: 95.78%\n",
      "Epoch 5/20, Train Loss: 0.0081, Valid Loss: 0.0022, Valid Accuracy: 96.21%\n",
      "Epoch 6/20, Train Loss: 0.0036, Valid Loss: 0.0021, Valid Accuracy: 96.29%\n",
      "Epoch 7/20, Train Loss: 0.0020, Valid Loss: 0.0021, Valid Accuracy: 96.41%\n",
      "Epoch 8/20, Train Loss: 0.0013, Valid Loss: 0.0021, Valid Accuracy: 96.37%\n",
      "Epoch 9/20, Train Loss: 0.0009, Valid Loss: 0.0021, Valid Accuracy: 96.41%\n",
      "Epoch 10/20, Train Loss: 0.0007, Valid Loss: 0.0021, Valid Accuracy: 96.33%\n",
      "Epoch 11/20, Train Loss: 0.0006, Valid Loss: 0.0021, Valid Accuracy: 96.37%\n",
      "Epoch 12/20, Train Loss: 0.0005, Valid Loss: 0.0022, Valid Accuracy: 96.25%\n",
      "Epoch 13/20, Train Loss: 0.0004, Valid Loss: 0.0022, Valid Accuracy: 96.41%\n",
      "Epoch 14/20, Train Loss: 0.0003, Valid Loss: 0.0022, Valid Accuracy: 96.41%\n",
      "Epoch 15/20, Train Loss: 0.0003, Valid Loss: 0.0022, Valid Accuracy: 96.45%\n",
      "Epoch 16/20, Train Loss: 0.0002, Valid Loss: 0.0022, Valid Accuracy: 96.45%\n",
      "Epoch 17/20, Train Loss: 0.0002, Valid Loss: 0.0022, Valid Accuracy: 96.41%\n",
      "Epoch 18/20, Train Loss: 0.0001, Valid Loss: 0.0023, Valid Accuracy: 96.37%\n",
      "Epoch 19/20, Train Loss: 0.0001, Valid Loss: 0.0023, Valid Accuracy: 96.49%\n"
     ]
    },
    {
     "name": "stderr",
     "output_type": "stream",
     "text": [
      "[I 2024-05-09 01:07:02,246] Trial 2 finished with value: 0.002299537667570946 and parameters: {'learning_rate': 1.8361161694452508e-05}. Best is trial 1 with value: 0.0014615214366212946.\n"
     ]
    },
    {
     "name": "stdout",
     "output_type": "stream",
     "text": [
      "Epoch 20/20, Train Loss: 0.0001, Valid Loss: 0.0023, Valid Accuracy: 96.49%\n"
     ]
    },
    {
     "data": {
      "application/vnd.jupyter.widget-view+json": {
       "model_id": "61cde9ffa15c426bbec8983a7d883c57",
       "version_major": 2,
       "version_minor": 0
      },
      "text/plain": [
       "config.json:   0%|          | 0.00/69.7k [00:00<?, ?B/s]"
      ]
     },
     "metadata": {},
     "output_type": "display_data"
    },
    {
     "data": {
      "application/vnd.jupyter.widget-view+json": {
       "model_id": "e58d49627a4a4a27914a52c901bb3c59",
       "version_major": 2,
       "version_minor": 0
      },
      "text/plain": [
       "model.safetensors:   0%|          | 0.00/346M [00:00<?, ?B/s]"
      ]
     },
     "metadata": {},
     "output_type": "display_data"
    },
    {
     "name": "stdout",
     "output_type": "stream",
     "text": [
      "Epoch 1/20, Train Loss: 1.6819, Valid Loss: 0.0051, Valid Accuracy: 92.94%\n",
      "Epoch 2/20, Train Loss: 0.1913, Valid Loss: 0.0031, Valid Accuracy: 95.19%\n",
      "Epoch 3/20, Train Loss: 0.0722, Valid Loss: 0.0026, Valid Accuracy: 95.74%\n",
      "Epoch 4/20, Train Loss: 0.0281, Valid Loss: 0.0025, Valid Accuracy: 95.54%\n",
      "Epoch 5/20, Train Loss: 0.0115, Valid Loss: 0.0024, Valid Accuracy: 96.05%\n",
      "Epoch 6/20, Train Loss: 0.0055, Valid Loss: 0.0024, Valid Accuracy: 95.97%\n",
      "Epoch 7/20, Train Loss: 0.0032, Valid Loss: 0.0024, Valid Accuracy: 96.29%\n",
      "Epoch 8/20, Train Loss: 0.0021, Valid Loss: 0.0023, Valid Accuracy: 96.33%\n",
      "Epoch 9/20, Train Loss: 0.0015, Valid Loss: 0.0023, Valid Accuracy: 96.17%\n",
      "Epoch 10/20, Train Loss: 0.0011, Valid Loss: 0.0023, Valid Accuracy: 96.33%\n",
      "Epoch 11/20, Train Loss: 0.0009, Valid Loss: 0.0023, Valid Accuracy: 96.29%\n",
      "Epoch 12/20, Train Loss: 0.0007, Valid Loss: 0.0023, Valid Accuracy: 96.13%\n",
      "Epoch 13/20, Train Loss: 0.0006, Valid Loss: 0.0023, Valid Accuracy: 96.21%\n",
      "Epoch 14/20, Train Loss: 0.0005, Valid Loss: 0.0024, Valid Accuracy: 96.25%\n",
      "Epoch 15/20, Train Loss: 0.0004, Valid Loss: 0.0024, Valid Accuracy: 96.21%\n",
      "Epoch 16/20, Train Loss: 0.0003, Valid Loss: 0.0024, Valid Accuracy: 96.25%\n",
      "Epoch 17/20, Train Loss: 0.0003, Valid Loss: 0.0024, Valid Accuracy: 96.29%\n",
      "Epoch 18/20, Train Loss: 0.0002, Valid Loss: 0.0024, Valid Accuracy: 96.29%\n",
      "Epoch 19/20, Train Loss: 0.0002, Valid Loss: 0.0024, Valid Accuracy: 96.41%\n"
     ]
    },
    {
     "name": "stderr",
     "output_type": "stream",
     "text": [
      "[I 2024-05-09 03:45:12,652] Trial 3 finished with value: 0.002412874954804997 and parameters: {'learning_rate': 1.4039560409365693e-05}. Best is trial 1 with value: 0.0014615214366212946.\n"
     ]
    },
    {
     "name": "stdout",
     "output_type": "stream",
     "text": [
      "Epoch 20/20, Train Loss: 0.0001, Valid Loss: 0.0024, Valid Accuracy: 96.33%\n",
      "Epoch 1/20, Train Loss: 3.1874, Valid Loss: 0.0140, Valid Accuracy: 83.46%\n",
      "Epoch 2/20, Train Loss: 0.5375, Valid Loss: 0.0060, Valid Accuracy: 91.83%\n",
      "Epoch 3/20, Train Loss: 0.2517, Valid Loss: 0.0043, Valid Accuracy: 93.45%\n",
      "Epoch 4/20, Train Loss: 0.1466, Valid Loss: 0.0036, Valid Accuracy: 94.44%\n",
      "Epoch 5/20, Train Loss: 0.0862, Valid Loss: 0.0034, Valid Accuracy: 94.63%\n",
      "Epoch 6/20, Train Loss: 0.0506, Valid Loss: 0.0032, Valid Accuracy: 95.11%\n",
      "Epoch 7/20, Train Loss: 0.0299, Valid Loss: 0.0030, Valid Accuracy: 95.11%\n",
      "Epoch 8/20, Train Loss: 0.0182, Valid Loss: 0.0030, Valid Accuracy: 95.07%\n",
      "Epoch 9/20, Train Loss: 0.0114, Valid Loss: 0.0030, Valid Accuracy: 95.07%\n",
      "Epoch 10/20, Train Loss: 0.0075, Valid Loss: 0.0030, Valid Accuracy: 95.22%\n",
      "Epoch 11/20, Train Loss: 0.0051, Valid Loss: 0.0031, Valid Accuracy: 95.22%\n",
      "Epoch 12/20, Train Loss: 0.0037, Valid Loss: 0.0031, Valid Accuracy: 95.15%\n",
      "Epoch 13/20, Train Loss: 0.0028, Valid Loss: 0.0031, Valid Accuracy: 95.22%\n",
      "Epoch 14/20, Train Loss: 0.0021, Valid Loss: 0.0032, Valid Accuracy: 95.38%\n",
      "Epoch 15/20, Train Loss: 0.0017, Valid Loss: 0.0031, Valid Accuracy: 95.34%\n",
      "Epoch 16/20, Train Loss: 0.0013, Valid Loss: 0.0031, Valid Accuracy: 95.26%\n",
      "Epoch 17/20, Train Loss: 0.0011, Valid Loss: 0.0031, Valid Accuracy: 95.26%\n",
      "Epoch 18/20, Train Loss: 0.0009, Valid Loss: 0.0032, Valid Accuracy: 95.42%\n",
      "Epoch 19/20, Train Loss: 0.0007, Valid Loss: 0.0032, Valid Accuracy: 95.46%\n"
     ]
    },
    {
     "name": "stderr",
     "output_type": "stream",
     "text": [
      "[I 2024-05-09 06:20:27,723] Trial 4 finished with value: 0.0032331978618487093 and parameters: {'learning_rate': 5.760341850783641e-06}. Best is trial 1 with value: 0.0014615214366212946.\n"
     ]
    },
    {
     "name": "stdout",
     "output_type": "stream",
     "text": [
      "Epoch 20/20, Train Loss: 0.0006, Valid Loss: 0.0032, Valid Accuracy: 95.46%\n"
     ]
    },
    {
     "name": "stderr",
     "output_type": "stream",
     "text": [
      "[I 2024-05-09 06:28:12,510] Trial 5 pruned. \n"
     ]
    },
    {
     "name": "stdout",
     "output_type": "stream",
     "text": [
      "Epoch 1/20, Train Loss: 3.1904, Valid Loss: 0.0141, Valid Accuracy: 83.15%\n"
     ]
    },
    {
     "name": "stderr",
     "output_type": "stream",
     "text": [
      "[I 2024-05-09 06:35:57,157] Trial 6 pruned. \n"
     ]
    },
    {
     "name": "stdout",
     "output_type": "stream",
     "text": [
      "Epoch 1/20, Train Loss: 3.6263, Valid Loss: 0.0191, Valid Accuracy: 77.11%\n",
      "Epoch 1/20, Train Loss: 1.1392, Valid Loss: 0.0036, Valid Accuracy: 94.40%\n",
      "Epoch 2/20, Train Loss: 0.1123, Valid Loss: 0.0025, Valid Accuracy: 95.46%\n",
      "Epoch 3/20, Train Loss: 0.0330, Valid Loss: 0.0020, Valid Accuracy: 96.61%\n",
      "Epoch 4/20, Train Loss: 0.0137, Valid Loss: 0.0020, Valid Accuracy: 96.49%\n",
      "Epoch 5/20, Train Loss: 0.0049, Valid Loss: 0.0021, Valid Accuracy: 96.61%\n",
      "Epoch 6/20, Train Loss: 0.0033, Valid Loss: 0.0020, Valid Accuracy: 96.57%\n",
      "Epoch 7/20, Train Loss: 0.0017, Valid Loss: 0.0019, Valid Accuracy: 96.88%\n",
      "Epoch 8/20, Train Loss: 0.0009, Valid Loss: 0.0018, Valid Accuracy: 97.00%\n",
      "Epoch 9/20, Train Loss: 0.0006, Valid Loss: 0.0018, Valid Accuracy: 97.00%\n",
      "Epoch 10/20, Train Loss: 0.0005, Valid Loss: 0.0018, Valid Accuracy: 97.00%\n",
      "Epoch 11/20, Train Loss: 0.0004, Valid Loss: 0.0018, Valid Accuracy: 97.20%\n",
      "Epoch 12/20, Train Loss: 0.0003, Valid Loss: 0.0018, Valid Accuracy: 97.16%\n",
      "Epoch 13/20, Train Loss: 0.0003, Valid Loss: 0.0018, Valid Accuracy: 97.24%\n",
      "Epoch 14/20, Train Loss: 0.0002, Valid Loss: 0.0018, Valid Accuracy: 97.24%\n",
      "Epoch 15/20, Train Loss: 0.0002, Valid Loss: 0.0018, Valid Accuracy: 97.28%\n",
      "Epoch 16/20, Train Loss: 0.0001, Valid Loss: 0.0019, Valid Accuracy: 97.28%\n",
      "Epoch 17/20, Train Loss: 0.0001, Valid Loss: 0.0019, Valid Accuracy: 97.28%\n",
      "Epoch 18/20, Train Loss: 0.0001, Valid Loss: 0.0019, Valid Accuracy: 97.28%\n",
      "Epoch 19/20, Train Loss: 0.0001, Valid Loss: 0.0019, Valid Accuracy: 97.24%\n"
     ]
    },
    {
     "name": "stderr",
     "output_type": "stream",
     "text": [
      "[I 2024-05-09 09:10:37,425] Trial 7 finished with value: 0.0019229185120928013 and parameters: {'learning_rate': 2.40539791121905e-05}. Best is trial 1 with value: 0.0014615214366212946.\n"
     ]
    },
    {
     "name": "stdout",
     "output_type": "stream",
     "text": [
      "Epoch 20/20, Train Loss: 0.0001, Valid Loss: 0.0019, Valid Accuracy: 97.20%\n"
     ]
    },
    {
     "name": "stderr",
     "output_type": "stream",
     "text": [
      "[I 2024-05-09 09:18:23,873] Trial 8 pruned. \n"
     ]
    },
    {
     "name": "stdout",
     "output_type": "stream",
     "text": [
      "Epoch 1/20, Train Loss: 1.6969, Valid Loss: 0.0052, Valid Accuracy: 93.01%\n",
      "Epoch 1/20, Train Loss: 1.4566, Valid Loss: 0.0042, Valid Accuracy: 94.08%\n",
      "Epoch 2/20, Train Loss: 0.1544, Valid Loss: 0.0028, Valid Accuracy: 95.54%\n",
      "Epoch 3/20, Train Loss: 0.0532, Valid Loss: 0.0024, Valid Accuracy: 95.94%\n",
      "Epoch 4/20, Train Loss: 0.0182, Valid Loss: 0.0021, Valid Accuracy: 96.25%\n",
      "Epoch 5/20, Train Loss: 0.0074, Valid Loss: 0.0022, Valid Accuracy: 96.45%\n",
      "Epoch 6/20, Train Loss: 0.0035, Valid Loss: 0.0022, Valid Accuracy: 96.61%\n",
      "Epoch 7/20, Train Loss: 0.0021, Valid Loss: 0.0021, Valid Accuracy: 96.53%\n",
      "Epoch 8/20, Train Loss: 0.0013, Valid Loss: 0.0021, Valid Accuracy: 96.49%\n",
      "Epoch 9/20, Train Loss: 0.0010, Valid Loss: 0.0022, Valid Accuracy: 96.61%\n",
      "Epoch 10/20, Train Loss: 0.0008, Valid Loss: 0.0021, Valid Accuracy: 96.53%\n",
      "Epoch 11/20, Train Loss: 0.0006, Valid Loss: 0.0021, Valid Accuracy: 96.61%\n",
      "Epoch 12/20, Train Loss: 0.0005, Valid Loss: 0.0021, Valid Accuracy: 96.45%\n",
      "Epoch 13/20, Train Loss: 0.0004, Valid Loss: 0.0022, Valid Accuracy: 96.45%\n",
      "Epoch 14/20, Train Loss: 0.0003, Valid Loss: 0.0022, Valid Accuracy: 96.45%\n",
      "Epoch 15/20, Train Loss: 0.0003, Valid Loss: 0.0022, Valid Accuracy: 96.49%\n",
      "Epoch 16/20, Train Loss: 0.0002, Valid Loss: 0.0022, Valid Accuracy: 96.49%\n",
      "Epoch 17/20, Train Loss: 0.0002, Valid Loss: 0.0022, Valid Accuracy: 96.45%\n",
      "Epoch 18/20, Train Loss: 0.0002, Valid Loss: 0.0023, Valid Accuracy: 96.49%\n",
      "Epoch 19/20, Train Loss: 0.0001, Valid Loss: 0.0023, Valid Accuracy: 96.45%\n"
     ]
    },
    {
     "name": "stderr",
     "output_type": "stream",
     "text": [
      "[I 2024-05-09 11:53:45,346] Trial 9 finished with value: 0.0022804887705798987 and parameters: {'learning_rate': 1.7498097328214374e-05}. Best is trial 1 with value: 0.0014615214366212946.\n"
     ]
    },
    {
     "name": "stdout",
     "output_type": "stream",
     "text": [
      "Epoch 20/20, Train Loss: 0.0001, Valid Loss: 0.0023, Valid Accuracy: 96.49%\n",
      "Best trial:\n",
      "  Value:  0.0014615214366212946\n",
      "  Params: \n",
      "    learning_rate: 2.8515470704879856e-05\n"
     ]
    }
   ],
   "source": [
    "if __name__ == \"__main__\":\n",
    "    # Set up Optuna\n",
    "    study = optuna.create_study(\n",
    "        direction=\"minimize\",\n",
    "        sampler=TPESampler(seed=42),  # Use TPE sampler\n",
    "    )\n",
    "\n",
    "    # Run optimization\n",
    "    study.optimize(objective, n_trials=3)\n",
    "\n",
    "    # Get the best trial\n",
    "    best_trial = study.best_trial\n",
    "\n",
    "    # Print best hyperparameters and results\n",
    "    print(\"Best trial:\")\n",
    "    print(\"  Value: \", best_trial.value)\n",
    "    print(\"  Params: \")\n",
    "    for key, value in best_trial.params.items():\n",
    "        print(\"    {}: {}\".format(key, value))"
   ]
  },
  {
   "cell_type": "code",
   "execution_count": 1,
   "metadata": {},
   "outputs": [
    {
     "ename": "NameError",
     "evalue": "name 'study' is not defined",
     "output_type": "error",
     "traceback": [
      "\u001b[0;31m---------------------------------------------------------------------------\u001b[0m",
      "\u001b[0;31mNameError\u001b[0m                                 Traceback (most recent call last)",
      "Cell \u001b[0;32mIn[1], line 1\u001b[0m\n\u001b[0;32m----> 1\u001b[0m study_df \u001b[38;5;241m=\u001b[39m study\u001b[38;5;241m.\u001b[39mtrials_dataframe()\n\u001b[1;32m      2\u001b[0m study_df\n",
      "\u001b[0;31mNameError\u001b[0m: name 'study' is not defined"
     ]
    }
   ],
   "source": [
    "study_df = study.trials_dataframe()\n",
    "study_df"
   ]
  },
  {
   "cell_type": "code",
   "execution_count": 15,
   "metadata": {},
   "outputs": [],
   "source": [
    "# ViT 모델 및 전이 학습 준비\n",
    "model = ViTForImageClassification.from_pretrained('google/vit-base-patch16-224')\n",
    "\n",
    "classifier = nn.Linear(model.config.hidden_size, 25)\n",
    "model.classifier = classifier"
   ]
  },
  {
   "cell_type": "code",
   "execution_count": 16,
   "metadata": {},
   "outputs": [
    {
     "data": {
      "text/plain": [
       "ViTForImageClassification(\n",
       "  (vit): ViTModel(\n",
       "    (embeddings): ViTEmbeddings(\n",
       "      (patch_embeddings): ViTPatchEmbeddings(\n",
       "        (projection): Conv2d(3, 768, kernel_size=(16, 16), stride=(16, 16))\n",
       "      )\n",
       "      (dropout): Dropout(p=0.0, inplace=False)\n",
       "    )\n",
       "    (encoder): ViTEncoder(\n",
       "      (layer): ModuleList(\n",
       "        (0-11): 12 x ViTLayer(\n",
       "          (attention): ViTAttention(\n",
       "            (attention): ViTSelfAttention(\n",
       "              (query): Linear(in_features=768, out_features=768, bias=True)\n",
       "              (key): Linear(in_features=768, out_features=768, bias=True)\n",
       "              (value): Linear(in_features=768, out_features=768, bias=True)\n",
       "              (dropout): Dropout(p=0.0, inplace=False)\n",
       "            )\n",
       "            (output): ViTSelfOutput(\n",
       "              (dense): Linear(in_features=768, out_features=768, bias=True)\n",
       "              (dropout): Dropout(p=0.0, inplace=False)\n",
       "            )\n",
       "          )\n",
       "          (intermediate): ViTIntermediate(\n",
       "            (dense): Linear(in_features=768, out_features=3072, bias=True)\n",
       "            (intermediate_act_fn): GELUActivation()\n",
       "          )\n",
       "          (output): ViTOutput(\n",
       "            (dense): Linear(in_features=3072, out_features=768, bias=True)\n",
       "            (dropout): Dropout(p=0.0, inplace=False)\n",
       "          )\n",
       "          (layernorm_before): LayerNorm((768,), eps=1e-12, elementwise_affine=True)\n",
       "          (layernorm_after): LayerNorm((768,), eps=1e-12, elementwise_affine=True)\n",
       "        )\n",
       "      )\n",
       "    )\n",
       "    (layernorm): LayerNorm((768,), eps=1e-12, elementwise_affine=True)\n",
       "  )\n",
       "  (classifier): Linear(in_features=768, out_features=25, bias=True)\n",
       ")"
      ]
     },
     "execution_count": 16,
     "metadata": {},
     "output_type": "execute_result"
    }
   ],
   "source": [
    "# GPU 사용 가능 여부 확인\n",
    "device = torch.device('cuda' if torch.cuda.is_available() else 'cpu')\n",
    "model.to(device)"
   ]
  },
  {
   "cell_type": "code",
   "execution_count": 17,
   "metadata": {},
   "outputs": [],
   "source": [
    "# 손실 함수 및 최적화 기법 설정\n",
    "criterion = torch.nn.CrossEntropyLoss()\n",
    "optimizer = torch.optim.Adam(model.parameters(), lr=3.1489116479568635e-05)"
   ]
  },
  {
   "cell_type": "code",
   "execution_count": 19,
   "metadata": {},
   "outputs": [
    {
     "name": "stdout",
     "output_type": "stream",
     "text": [
      "Best model saved with accuracy: 97.00%\n",
      "Epoch [1/10], Train Loss: 0.5001, Valid Loss: 0.0020, Valid Accuracy: 97.00%\n",
      "Latest model saved: saved_models/latest_model.pth\n",
      "Best model saved with accuracy: 97.75%\n",
      "Epoch [2/10], Train Loss: 0.0567, Valid Loss: 0.0014, Valid Accuracy: 97.75%\n",
      "Latest model saved: saved_models/latest_model.pth\n",
      "Best model saved with accuracy: 97.91%\n",
      "Epoch [3/10], Train Loss: 0.0138, Valid Loss: 0.0012, Valid Accuracy: 97.91%\n",
      "Latest model saved: saved_models/latest_model.pth\n",
      "Best model saved with accuracy: 98.03%\n",
      "Epoch [4/10], Train Loss: 0.0043, Valid Loss: 0.0012, Valid Accuracy: 98.03%\n",
      "Latest model saved: saved_models/latest_model.pth\n",
      "Epoch [5/10], Train Loss: 0.0022, Valid Loss: 0.0011, Valid Accuracy: 97.99%\n",
      "Latest model saved: saved_models/latest_model.pth\n",
      "Best model saved with accuracy: 98.11%\n",
      "Epoch [6/10], Train Loss: 0.0013, Valid Loss: 0.0011, Valid Accuracy: 98.11%\n",
      "Latest model saved: saved_models/latest_model.pth\n",
      "Epoch [7/10], Train Loss: 0.0009, Valid Loss: 0.0011, Valid Accuracy: 98.07%\n",
      "Latest model saved: saved_models/latest_model.pth\n",
      "Epoch [8/10], Train Loss: 0.0007, Valid Loss: 0.0011, Valid Accuracy: 98.11%\n",
      "Latest model saved: saved_models/latest_model.pth\n",
      "Epoch [9/10], Train Loss: 0.0005, Valid Loss: 0.0011, Valid Accuracy: 98.11%\n",
      "Latest model saved: saved_models/latest_model.pth\n",
      "Epoch [10/10], Train Loss: 0.0004, Valid Loss: 0.0011, Valid Accuracy: 98.07%\n",
      "Latest model saved: saved_models/latest_model.pth\n"
     ]
    }
   ],
   "source": [
    "# 모델을 저장할 디렉토리 생성\n",
    "os.makedirs('saved_models', exist_ok=True)\n",
    "\n",
    "best_accuracy = 0.0\n",
    "best_model_path = 'saved_models/best_model.pth'\n",
    "\n",
    "epochs = 10\n",
    "\n",
    "train_losses = []\n",
    "valid_losses = []\n",
    "valid_accuracies = []\n",
    "\n",
    "# 모델 학습\n",
    "for epoch in range(epochs):\n",
    "    model.train()\n",
    "    running_loss = 0.0\n",
    "    for images, labels in train_loader:\n",
    "        images = images.to(device)\n",
    "        labels = labels.to(device)\n",
    "        \n",
    "        optimizer.zero_grad()\n",
    "        outputs = model(images)\n",
    "        loss = criterion(outputs.logits, labels)\n",
    "        loss.backward()\n",
    "        optimizer.step()\n",
    "\n",
    "        running_loss += loss.item() * images.size(0)\n",
    "\n",
    "    epoch_train_loss = running_loss / len(train_loader.dataset)\n",
    "    train_losses.append(epoch_train_loss)\n",
    "\n",
    "    # 검증 데이터셋을 이용한 성능 평가\n",
    "    model.eval()\n",
    "    with torch.no_grad():\n",
    "        valid_loss = 0.0\n",
    "        correct = 0\n",
    "        total = 0\n",
    "        for images, labels in valid_loader:\n",
    "            images, labels = images.to(device), labels.to(device)\n",
    "            outputs = model(images)\n",
    "            valid_loss += criterion(outputs.logits, labels).item()\n",
    "            _, predicted = torch.max(outputs.logits, 1)\n",
    "            total += labels.size(0)\n",
    "            correct += (predicted == labels).sum().item()\n",
    "\n",
    "        epoch_valid_loss = valid_loss / len(valid_loader.dataset)\n",
    "        valid_losses.append(epoch_valid_loss)\n",
    "\n",
    "        accuracy = 100 * correct / total\n",
    "        valid_accuracies.append(accuracy)\n",
    "\n",
    "        # 최고 성능 모델 저장\n",
    "        if accuracy > best_accuracy:\n",
    "            best_accuracy = accuracy\n",
    "            torch.save(model.state_dict(), f'saved_models/best_model.pth')\n",
    "            print(f'Best model saved with accuracy: {accuracy:.2f}%')\n",
    "\n",
    "        print(f'Epoch [{epoch+1}/{epochs}], Train Loss: {epoch_train_loss:.4f}, Valid Loss: {epoch_valid_loss:.4f}, Valid Accuracy: {accuracy:.2f}%')\n",
    "\n",
    "    # 최신 모델 저장\n",
    "    latest_model_path = f'saved_models/latest_model.pth'\n",
    "    torch.save(model.state_dict(), latest_model_path)\n",
    "    print(f'Latest model saved: {latest_model_path}')\n"
   ]
  },
  {
   "cell_type": "code",
   "execution_count": 20,
   "metadata": {},
   "outputs": [
    {
     "data": {
      "image/png": "[encoded data removed]",
      "text/plain": [
       "<Figure size 640x480 with 1 Axes>"
      ]
     },
     "metadata": {},
     "output_type": "display_data"
    },
    {
     "data": {
      "image/png": "[encoded data removed]",
      "text/plain": [
       "<Figure size 640x480 with 1 Axes>"
      ]
     },
     "metadata": {},
     "output_type": "display_data"
    }
   ],
   "source": [
    "plt.plot(train_losses, label='Train Loss')\n",
    "plt.plot(valid_losses, label='Valid Loss')\n",
    "plt.xlabel('Epoch')\n",
    "plt.ylabel('Loss')\n",
    "plt.legend()\n",
    "plt.show()\n",
    "\n",
    "plt.plot(valid_accuracies, label='Valid Accuracy')\n",
    "plt.xlabel('Epoch')\n",
    "plt.ylabel('Accuracy (%)')\n",
    "plt.legend()\n",
    "plt.show()"
   ]
  },
  {
   "cell_type": "code",
   "execution_count": 21,
   "metadata": {},
   "outputs": [],
   "source": [
    "from PIL import Image, ImageFile\n",
    "ImageFile.LOAD_TRUNCATED_IMAGES = True"
   ]
  },
  {
   "cell_type": "code",
   "execution_count": 22,
   "metadata": {},
   "outputs": [
    {
     "name": "stdout",
     "output_type": "stream",
     "text": [
      "Test Loss: 0.0000, Test Accuracy: 97.84%\n"
     ]
    }
   ],
   "source": [
    "best_model_path = 'saved_models/best_model.pth'\n",
    "\n",
    "model = ViTForImageClassification.from_pretrained('google/vit-base-patch16-224')\n",
    "classifier = nn.Linear(model.config.hidden_size, 25)\n",
    "model.classifier = classifier\n",
    "\n",
    "model.load_state_dict(torch.load(best_model_path))\n",
    "\n",
    "device = torch.device('cuda' if torch.cuda.is_available() else 'cpu')\n",
    "model.to(device)\n",
    "\n",
    "# 손실 함수 및 최적화 기법 설정\n",
    "criterion = torch.nn.CrossEntropyLoss()\n",
    "optimizer = torch.optim.Adam(model.parameters(), lr=3.1489116479568635e-05)\n",
    "\n",
    "# 테스트 데이터셋을 이용한 성능 평가\n",
    "model.eval()\n",
    "\n",
    "test_loss = 0.0\n",
    "correct = 0\n",
    "total = 0\n",
    "\n",
    "with torch.no_grad():\n",
    "    for images, labels in test_loader:\n",
    "        images, labels = images.to(device), labels.to(device)\n",
    "        outputs = model(images)\n",
    "        test_loss += criterion(outputs.logits, labels).item()\n",
    "        _, predicted = torch.max(outputs.logits, 1)\n",
    "        total += labels.size(0)\n",
    "        correct += (predicted == labels).sum().item()\n",
    "            \n",
    "        test_loss /= len(test_loader.dataset)\n",
    "        test_accuracy = 100 * correct / total\n",
    "\n",
    "print(f'Test Loss: {test_loss:.4f}, Test Accuracy: {test_accuracy:.2f}%')\n"
   ]
  },
  {
   "cell_type": "code",
   "execution_count": null,
   "metadata": {},
   "outputs": [],
   "source": [
    "class TestDataset(torch.utils.data.Dataset):\n",
    "    def __init__(self, data, transform=None):\n",
    "        # 데이터셋 초기화 및 전처리 작업 수행\n",
    "        self.data = data\n",
    "        self.transform = transform\n",
    "\n",
    "    def __len__(self):\n",
    "        # 데이터셋의 샘플 수 반환\n",
    "        return len(self.data)\n",
    "\n",
    "    def __getitem__(self, idx):\n",
    "        # 인덱스(idx)에 해당하는 샘플 반환\n",
    "        image = Image.open(self.data['img_path'][idx])\n",
    "\n",
    "        if self.transform:\n",
    "            image = self.transform(image)\n",
    "        \n",
    "        return image"
   ]
  },
  {
   "cell_type": "code",
   "execution_count": null,
   "metadata": {},
   "outputs": [],
   "source": [
    "real_test_df = pd.read_csv('test.csv')\n",
    "real_test_dataset = TestDataset(real_test_df, transform=transform)\n",
    "real_test_loader = DataLoader(real_test_dataset, batch_size=64, shuffle=False)\n",
    "\n",
    "best_model_path = 'saved_models/best_model_98.06629834254143.pth'\n",
    "model.load_state_dict(torch.load(best_model_path))\n",
    "model.eval()\n",
    "\n",
    "predictions = []\n",
    "\n",
    "with torch.no_grad():\n",
    "    for images in real_test_loader:\n",
    "        images = images.to(device)\n",
    "        outputs = model(images)\n",
    "        _, predicted = torch.max(outputs.logits, 1)\n",
    "        predictions.extend(predicted.cpu().numpy())\n",
    "\n",
    "# 예측 결과를 label_to_index로 변환하여 DataFrame에 추가합니다.\n",
    "real_test_df['label'] = predictions\n",
    "real_test_df['label'] = real_test_df['label'].map({v: k for k, v in label_to_index.items()})\n",
    "real_test_df['label'].fillna(real_test_df['label'].mode()[0], inplace=True)\n",
    "real_test_df.to_csv('submission.csv', index=False, columns=['id', 'label'])"
   ]
  }
 ],
 "metadata": {
  "kernelspec": {
   "display_name": "Python 3",
   "language": "python",
   "name": "python3"
  },
  "language_info": {
   "codemirror_mode": {
    "name": "ipython",
    "version": 3
   },
   "file_extension": ".py",
   "mimetype": "text/x-python",
   "name": "python",
   "nbconvert_exporter": "python",
   "pygments_lexer": "ipython3",
   "version": "3.11.5"
  }
 },
 "nbformat": 4,
 "nbformat_minor": 2
}
